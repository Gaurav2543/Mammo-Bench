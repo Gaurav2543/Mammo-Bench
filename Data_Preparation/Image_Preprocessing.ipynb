{
 "cells": [
  {
   "cell_type": "code",
   "execution_count": null,
   "metadata": {},
   "outputs": [],
   "source": [
    "import os\n",
    "import cv2\n",
    "import pydicom\n",
    "import numpy as np\n",
    "import pandas as pd\n",
    "from tqdm import tqdm\n",
    "from PIL import Image\n",
    "import matplotlib.pyplot as plt"
   ]
  },
  {
   "cell_type": "markdown",
   "metadata": {},
   "source": [
    "## Cropping and CLAHE-ing"
   ]
  },
  {
   "cell_type": "code",
   "execution_count": null,
   "metadata": {},
   "outputs": [],
   "source": [
    "def crop_breast_region(image_path, min_pixel=5):\n",
    "    img = cv2.imread(image_path, cv2.IMREAD_GRAYSCALE)\n",
    "    \n",
    "    # Apply threshold to separate breast tissue from background\n",
    "    _, binary = cv2.threshold(img, min_pixel, 255, cv2.THRESH_BINARY)\n",
    "    \n",
    "    # Find contours\n",
    "    contours, _ = cv2.findContours(binary, cv2.RETR_EXTERNAL, cv2.CHAIN_APPROX_SIMPLE)\n",
    "\n",
    "    if not contours:\n",
    "        print(f\"No contours found in image: {image_path}\")\n",
    "        return img\n",
    "    \n",
    "    # Find the largest contour (assuming it's the breast tissue)\n",
    "    largest_contour = max(contours, key=cv2.contourArea)\n",
    "    \n",
    "    # Get bounding rectangle of the largest contour\n",
    "    x, y, w, h = cv2.boundingRect(largest_contour)\n",
    "    \n",
    "    # Add some padding\n",
    "    padding = 10\n",
    "    x = max(0, x - padding)\n",
    "    y = max(0, y - padding)\n",
    "    w = min(img.shape[1] - x, w + 2*padding)\n",
    "    h = min(img.shape[0] - y, h + 2*padding)\n",
    "    \n",
    "    # Crop the image\n",
    "    cropped_img = img[y:y+h, x:x+w]\n",
    "    return cropped_img\n",
    "\n",
    "def clahe(img, clipLimit):\n",
    "    clahe = cv2.createCLAHE(clipLimit, tileGridSize=(8, 8))\n",
    "    img_clahe = clahe.apply(img)\n",
    "    return img_clahe\n",
    "\n",
    "def cropNclahe(image_path):\n",
    "    min_pixel=10\n",
    "    clipLimit=2.0\n",
    "    if \"mias\" in image_path:\n",
    "        clipLimit = 7\n",
    "        min_pixel = 50\n",
    "    elif \"inbreast\" in image_path:\n",
    "        clipLimit = 7\n",
    "        min_pixel = 10\n",
    "    elif \"mini-ddsm\" in image_path:\n",
    "        clipLimit = 3\n",
    "        min_pixel = 50\n",
    "    elif \"kau-bcmd\" in image_path:\n",
    "        clipLimit = 3.5\n",
    "        min_pixel = 25\n",
    "    elif \"cmmd\" in image_path:\n",
    "        clipLimit = 2\n",
    "        min_pixel = 10\n",
    "    elif \"cdd-cesm\" in image_path:\n",
    "        clipLimit = 1\n",
    "        min_pixel = 10\n",
    "    elif \"rsna-screening\" in image_path:\n",
    "        clipLimit = 4\n",
    "        min_pixel = 40\n",
    "    elif \"dmid\" in image_path:\n",
    "        clipLimit = 2.5\n",
    "        min_pixel = 60\n",
    "\n",
    "    img = crop_breast_region(image_path, min_pixel)\n",
    "    # img_clahe = clahe(img, clipLimit)\n",
    "    return img"
   ]
  },
  {
   "cell_type": "markdown",
   "metadata": {},
   "source": [
    "## Testing the appropriate Clip Limit for CLAHE for each dataset"
   ]
  },
  {
   "cell_type": "code",
   "execution_count": null,
   "metadata": {},
   "outputs": [],
   "source": [
    "def display_images(dataset, range):\n",
    "    df = pd.read_csv(f\"{dataset}.csv\")\n",
    "    image_paths = df.sample(10)[\"new_path\"].tolist()\n",
    "    images = [cv2.imread(image_path, cv2.IMREAD_GRAYSCALE) for image_path in image_paths]\n",
    "\n",
    "    fig, axs = plt.subplots(10, len(range)+1, figsize=(20, 40))\n",
    "    for i, image in enumerate(images):\n",
    "        axs[i, 0].imshow(image, cmap=\"gray\")\n",
    "        axs[i, 0].axis(\"off\")\n",
    "        axs[i, 0].set_title(\"Original\")\n",
    "        \n",
    "        for j, clipLimit in enumerate(range):\n",
    "            img_clahe = cropNclahe(image_paths[i])\n",
    "            axs[i, j+1].imshow(img_clahe, cmap=\"gray\")\n",
    "            axs[i, j+1].axis(\"off\")\n",
    "            axs[i, j+1].set_title(f\"CLAHE (clipLimit={clipLimit})\")\n",
    "    plt.show()"
   ]
  },
  {
   "cell_type": "markdown",
   "metadata": {},
   "source": [
    "## For images having a white background, convert their background to black"
   ]
  },
  {
   "cell_type": "code",
   "execution_count": null,
   "metadata": {},
   "outputs": [],
   "source": [
    "def white_background_to_black(img):\n",
    "    count = 0\n",
    "    # check if any 2 of the centres of the 4 edges are white\n",
    "    if img[10, img.shape[1]//2] >= 200:\n",
    "        count += 1\n",
    "    if img[img.shape[0]//2, 10] >= 200:\n",
    "        count += 1\n",
    "    if img[img.shape[0]//2, -10] >= 200:\n",
    "        count += 1\n",
    "    if img[-10, img.shape[1]//2] >= 200:\n",
    "        count += 1\n",
    "\n",
    "    # if at least 2 of the 4 are white, invert the image\n",
    "    if count >= 2:\n",
    "        img = cv2.bitwise_not(img)\n",
    "    return img"
   ]
  },
  {
   "cell_type": "markdown",
   "metadata": {},
   "source": [
    "## Function to make the background black, crop the breast region and apply CLAHE"
   ]
  },
  {
   "cell_type": "code",
   "execution_count": null,
   "metadata": {},
   "outputs": [],
   "source": [
    "def preprocess(dataset):\n",
    "    df = pd.read_csv(f\"{dataset}.csv\")\n",
    "    df[\"crop+clahe_path\"] = df[\"new_path\"].str.replace(\"Original_Dataset\", \"crop+clahe_Dataset\")\n",
    "    for i, row in tqdm(df.iterrows(), total=len(df)):\n",
    "        img = cv2.imread(row[\"new_path\"], cv2.IMREAD_GRAYSCALE)\n",
    "        img = white_background_to_black(img)\n",
    "        cv2.imwrite(row[\"new_path\"], img)\n",
    "        img_clahed = cropNclahe(row[\"new_path\"])\n",
    "        os.makedirs(os.path.dirname(row[\"crop+clahe_path\"]), exist_ok=True)\n",
    "        cv2.imwrite(row[\"crop+clahe_path\"], img_clahed)"
   ]
  },
  {
   "cell_type": "markdown",
   "metadata": {},
   "source": [
    "## MIAS Preprocessing"
   ]
  },
  {
   "cell_type": "code",
   "execution_count": null,
   "metadata": {},
   "outputs": [],
   "source": [
    "range = [5, 6, 7, 8, 9]\n",
    "display_images(\"mias\", range)\n",
    "preprocess(\"mias\")"
   ]
  },
  {
   "cell_type": "markdown",
   "metadata": {},
   "source": [
    "## INbreast Preprocessing"
   ]
  },
  {
   "cell_type": "code",
   "execution_count": null,
   "metadata": {},
   "outputs": [],
   "source": [
    "range = [5, 6, 7, 8]\n",
    "display_images(\"inbreast\", range)\n",
    "preprocess(\"inbreast\")"
   ]
  },
  {
   "cell_type": "markdown",
   "metadata": {},
   "source": [
    "## Mini-DDSM Preprocessing"
   ]
  },
  {
   "cell_type": "code",
   "execution_count": null,
   "metadata": {},
   "outputs": [],
   "source": [
    "range = [2.5, 3, 3.5, 4]\n",
    "display_images(\"mini-ddsm\", range)\n",
    "preprocess(\"mini-ddsm\")"
   ]
  },
  {
   "cell_type": "code",
   "execution_count": null,
   "metadata": {},
   "outputs": [],
   "source": [
    "def highlight_roi_from_boundary(image_path, mask_path, save_dir):\n",
    "    # Extract the index from the file path\n",
    "    index = os.path.basename(image_path).split('_')[-1].split('.')[0]\n",
    "\n",
    "    # Load the image and ROI mask\n",
    "    image = Image.open(image_path).convert('L')  # Ensure image is in grayscale format\n",
    "    mask = Image.open(mask_path).convert('L')  # Ensure mask is in grayscale format\n",
    "\n",
    "    # Convert images to numpy arrays\n",
    "    image = np.array(image)\n",
    "    mask = np.array(mask)\n",
    "\n",
    "    # Check if the dimensions of the image and mask match\n",
    "    if image.shape != mask.shape:\n",
    "        # Resize the mask to match the image dimensions\n",
    "        mask = cv2.resize(mask, (image.shape[1], image.shape[0]))\n",
    "\n",
    "    # Process the mask to get contours\n",
    "    contours, _ = cv2.findContours(mask, cv2.RETR_EXTERNAL, cv2.CHAIN_APPROX_SIMPLE)\n",
    "\n",
    "    # Create a blank mask to fill the contour\n",
    "    filled_mask = np.zeros_like(mask)\n",
    "    cv2.drawContours(filled_mask, contours, -1, 255, thickness=cv2.FILLED)\n",
    "\n",
    "    # Highlight the image using the filled mask\n",
    "    highlighted_image = cv2.bitwise_and(image, filled_mask)\n",
    "\n",
    "    # Save the images with the same index as in the original image\n",
    "    highlighted_image_path = os.path.join(save_dir, f'mini-ddsm_{index}.jpg')\n",
    "    filled_mask_path = os.path.join(save_dir, f'mini-ddsm_ROI_{index}.jpg')\n",
    "    \n",
    "    cv2.imwrite(highlighted_image_path, highlighted_image)\n",
    "    cv2.imwrite(filled_mask_path, filled_mask)\n",
    "\n",
    "    return highlighted_image_path, filled_mask_path\n",
    "\n",
    "def apply_highlight_roi(df, save_dir):\n",
    "    # Ensure the save directory exists\n",
    "    os.makedirs(save_dir, exist_ok=True)\n",
    "    \n",
    "    highlighted_image_paths = []\n",
    "    filled_mask_paths = []\n",
    "    \n",
    "    for index, row in tqdm(df.iterrows(), total=len(df), desc='Processing Images'):\n",
    "        image_path = row['new_path']\n",
    "        mask_path = row['ROI_path']\n",
    "        \n",
    "        highlighted_image_path, filled_mask_path = highlight_roi_from_boundary(image_path, mask_path, save_dir)\n",
    "        \n",
    "        highlighted_image_paths.append(highlighted_image_path)\n",
    "        filled_mask_paths.append(filled_mask_path)\n",
    "    \n",
    "    # Add the file paths of the saved images and masks back to the DataFrame\n",
    "    df['final_path'] = highlighted_image_paths\n",
    "    df['filled_mask_path'] = filled_mask_paths\n",
    "    \n",
    "    return df\n",
    "\n",
    "df = pd.read_csv('mini-ddsm.csv')\n",
    "df = apply_highlight_roi(df, 'mini-ddsm_highlighted_roi')\n",
    "df.to_csv('mini-ddsm.csv', index=False)"
   ]
  },
  {
   "cell_type": "markdown",
   "metadata": {},
   "source": [
    "## KAU-BCMD Preprocessing"
   ]
  },
  {
   "cell_type": "code",
   "execution_count": null,
   "metadata": {},
   "outputs": [],
   "source": [
    "range = [3, 3.5, 4]\n",
    "display_images(\"kau-bcmd\", range)\n",
    "preprocess(\"kau-bcmd\")"
   ]
  },
  {
   "cell_type": "markdown",
   "metadata": {},
   "source": [
    "## CMMD Preprocessing"
   ]
  },
  {
   "cell_type": "code",
   "execution_count": null,
   "metadata": {},
   "outputs": [],
   "source": [
    "range = [2, 2.5, 3]\n",
    "display_images(\"cmmd\", range)\n",
    "preprocess(\"cmmd\")"
   ]
  },
  {
   "cell_type": "markdown",
   "metadata": {},
   "source": [
    "## CDD-CESM Preprocessing"
   ]
  },
  {
   "cell_type": "code",
   "execution_count": null,
   "metadata": {},
   "outputs": [],
   "source": [
    "range = [0.5, 1, 1.5]\n",
    "display_images(\"cdd-cesm\", range)\n",
    "preprocess(\"cdd-cesm\")"
   ]
  },
  {
   "cell_type": "markdown",
   "metadata": {},
   "source": [
    "## RSNA Screening Data Preprocessing"
   ]
  },
  {
   "cell_type": "code",
   "execution_count": null,
   "metadata": {},
   "outputs": [],
   "source": [
    "range = [3.5, 4, 4.5]\n",
    "display_images(\"rsna-screening\", range)\n",
    "preprocess(\"rsna-screening\")"
   ]
  },
  {
   "cell_type": "markdown",
   "metadata": {},
   "source": [
    "## DMID Preprocessing"
   ]
  },
  {
   "cell_type": "code",
   "execution_count": null,
   "metadata": {},
   "outputs": [],
   "source": [
    "range = [2, 2.5, 3]\n",
    "display_images(\"dmid\", range)\n",
    "preprocess(\"dmid\")"
   ]
  },
  {
   "cell_type": "markdown",
   "metadata": {},
   "source": [
    "# Re-cropping the images which are not cropped properly in the first attempt"
   ]
  },
  {
   "cell_type": "code",
   "execution_count": null,
   "metadata": {},
   "outputs": [],
   "source": [
    "# check if more than 80% of the pixels in an image are black\n",
    "def is_black_picture(img):\n",
    "    black_pixels = np.sum(img <= 50)\n",
    "    total_pixels = img.shape[0] * img.shape[1]\n",
    "    return black_pixels / total_pixels > 0.8\n",
    "\n",
    "# for each dataset, check if more than 80% of the images are black\n",
    "datasets = [\"mias\", \"inbreast\", \"mini-ddsm\", \"kau-bcmd\", \"cmmd\", \"cdd-cesm\", \"dmid\", \"rsna-screening\"]\n",
    "\n",
    "for dataset in datasets:\n",
    "    df = pd.read_csv(f\"{dataset}.csv\")\n",
    "    black_pictures = 0\n",
    "    for i in tqdm(range(df.shape[0])):\n",
    "        img_path = df.iloc[i]['new_path'].replace(\"Original_Dataset\", \"crop+clahe_Dataset\")\n",
    "        img = cv2.imread(img_path, cv2.IMREAD_GRAYSCALE)\n",
    "        if is_black_picture(img):\n",
    "            black_pictures += 1\n",
    "            # print the path of the black image\n",
    "            print(df.iloc[i]['new_path'])\n",
    "            # try cropping these images with lower threshold\n",
    "            img = crop_breast_region(img_path, min_pixel=100)\n",
    "\n",
    "    print(f\"{dataset}: {black_pictures} out of {df.shape[0]} images are black\")"
   ]
  },
  {
   "cell_type": "code",
   "execution_count": null,
   "metadata": {},
   "outputs": [],
   "source": [
    "# check if more than 80% of the pixels in an image are black\n",
    "def is_black_picture(img):\n",
    "    black_pixels = np.sum(img <= 50)\n",
    "    total_pixels = img.shape[0] * img.shape[1]\n",
    "    return black_pixels / total_pixels > 0.8\n",
    "\n",
    "list = [\n",
    "    'Original_Dataset/mini-ddsm/mini-ddsm_6.jpg',\n",
    "    'Original_Dataset/mini-ddsm/mini-ddsm_190.jpg',\n",
    "    'Original_Dataset/mini-ddsm/mini-ddsm_194.jpg',\n",
    "    'Original_Dataset/mini-ddsm/mini-ddsm_1884.jpg',\n",
    "    'Original_Dataset/mini-ddsm/mini-ddsm_1886.jpg',\n",
    "    'Original_Dataset/mini-ddsm/mini-ddsm_2236.jpg',\n",
    "    'Original_Dataset/mini-ddsm/mini-ddsm_2238.jpg',\n",
    "    'Original_Dataset/mini-ddsm/mini-ddsm_2240.jpg',\n",
    "    'Original_Dataset/mini-ddsm/mini-ddsm_2242.jpg',\n",
    "    'Original_Dataset/mini-ddsm/mini-ddsm_2806.jpg',\n",
    "    'Original_Dataset/mini-ddsm/mini-ddsm_3190.jpg',\n",
    "    'Original_Dataset/mini-ddsm/mini-ddsm_3242.jpg',\n",
    "    'Original_Dataset/mini-ddsm/mini-ddsm_3506.jpg',\n",
    "    'Original_Dataset/mini-ddsm/mini-ddsm_3570.jpg',\n",
    "    'Original_Dataset/mini-ddsm/mini-ddsm_4448.jpg',\n",
    "    'Original_Dataset/mini-ddsm/mini-ddsm_4469.jpg',\n",
    "    'Original_Dataset/mini-ddsm/mini-ddsm_4470.jpg',\n",
    "    'Original_Dataset/mini-ddsm/mini-ddsm_4471.jpg',\n",
    "    'Original_Dataset/mini-ddsm/mini-ddsm_4648.jpg',\n",
    "    'Original_Dataset/mini-ddsm/mini-ddsm_4678.jpg',\n",
    "    'Original_Dataset/mini-ddsm/mini-ddsm_4956.jpg',\n",
    "    'Original_Dataset/mini-ddsm/mini-ddsm_4958.jpg',\n",
    "    'Original_Dataset/mini-ddsm/mini-ddsm_5002.jpg',\n",
    "]\n",
    "\n",
    "# go through these images and crop them with lower threshold\n",
    "for img_path in list:\n",
    "    img_path = img_path.replace(\"Original_Dataset\", \"crop+clahe_Dataset\")\n",
    "    img = cv2.imread(img_path, cv2.IMREAD_GRAYSCALE)\n",
    "    img = crop_breast_region(img_path, min_pixel=100)\n",
    "    # check if the image is still black\n",
    "    if is_black_picture(img):\n",
    "        print(f\"Black Image is still black: {img_path}\")\n",
    "    else:\n",
    "        cv2.imwrite(img_path, img)"
   ]
  }
 ],
 "metadata": {
  "kernelspec": {
   "display_name": "BC-env",
   "language": "python",
   "name": "python3"
  },
  "language_info": {
   "codemirror_mode": {
    "name": "ipython",
    "version": 3
   },
   "file_extension": ".py",
   "mimetype": "text/x-python",
   "name": "python",
   "nbconvert_exporter": "python",
   "pygments_lexer": "ipython3",
   "version": "3.10.14"
  }
 },
 "nbformat": 4,
 "nbformat_minor": 2
}
